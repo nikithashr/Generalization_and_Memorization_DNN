{
 "cells": [
  {
   "cell_type": "code",
   "execution_count": 30,
   "metadata": {},
   "outputs": [],
   "source": [
    "import os\n",
    "#import _pickle as cPickle\n",
    "import keras\n",
    "import keras.backend as K\n",
    "import tensorflow as tf\n",
    "import matplotlib.pyplot as plt\n",
    "\n",
    "import numpy as np\n",
    "from keras.models import Sequential\n",
    "from keras.datasets import cifar10\n",
    "from keras.layers import Dense, Dropout, Activation, Flatten\n",
    "from keras.layers import Convolution2D, MaxPooling2D, Cropping2D\n",
    "from keras.layers.normalization import BatchNormalization\n",
    "from keras.optimizers import SGD\n",
    "from keras.utils import np_utils\n",
    "#from data_utils.py import load_CIFAR10\n",
    "from keras.utils import to_categorical\n",
    "params = {}\n",
    "params['batch_size'] = 25\n",
    "params['num_epochs'] = 100\n",
    "params['learning_rate'] = 1\n",
    "params['activation'] = 'relu'\n",
    "params['optimizer'] = 'sgd'\n",
    "params['layers'] = [5, 2, 3, 4]\n",
    "params['output_dim'] = 10\n",
    "params['input_dim'] = 32*32*3\n",
    "params['lr_decay'] = 0.5"
   ]
  },
  {
   "cell_type": "code",
   "execution_count": 25,
   "metadata": {
    "collapsed": true
   },
   "outputs": [],
   "source": [
    "def loadData():\n",
    "    \n",
    "    num_classes = 10\n",
    "\n",
    "    (X_train, Y_train), (X_test, Y_test) = cifar10.load_data()\n",
    "    \n",
    "    Y_train = keras.utils.to_categorical(Y_train, num_classes)\n",
    "    Y_test = keras.utils.to_categorical(Y_test, num_classes)\n",
    "    \n",
    "    num_rows = X_train.shape[1]\n",
    "    num_cols = X_train.shape[2]\n",
    "    num_channels = X_train.shape[3]\n",
    "    input_dims = num_rows*num_cols*num_channels \n",
    "    print(X_train.shape)\n",
    "    \n",
    "    #X_train = X_train.reshape(X_train.shape[0], input_dims)\n",
    "    #X_test = X_test.reshape(X_test.shape[0], input_dims)\n",
    "    \n",
    "    X_train = X_train.astype('float32')\n",
    "    X_test = X_test.astype('float32')\n",
    "                          \n",
    "    return X_train, Y_train, X_test, Y_test"
   ]
  },
  {
   "cell_type": "code",
   "execution_count": 26,
   "metadata": {},
   "outputs": [
    {
     "name": "stdout",
     "output_type": "stream",
     "text": [
      "(50000, 32, 32, 3)\n",
      "(50000, 32, 32, 3)\n"
     ]
    }
   ],
   "source": [
    "X_train, Y_train, X_test, Y_test = loadData()\n",
    "print(X_train.shape)"
   ]
  },
  {
   "cell_type": "code",
   "execution_count": 27,
   "metadata": {},
   "outputs": [
    {
     "name": "stdout",
     "output_type": "stream",
     "text": [
      "mean before normalization: 120.707\n",
      "std before normalization: 64.15\n",
      "mean after normalization: 0.906249997786\n",
      "std after normalization: 0.422742165263\n"
     ]
    }
   ],
   "source": [
    "print(\"mean before normalization:\", np.mean(X_train))\n",
    "print(\"std before normalization:\", np.std(X_train))\n",
    "\n",
    "mean=[0,0,0]\n",
    "std=[0,0,0]\n",
    "newX_train = np.ones(X_train.shape)\n",
    "newX_test = np.ones(X_test.shape)\n",
    "for i in range(3):\n",
    "    mean[i] = np.mean(X_train[:,i,:,:])\n",
    "    std[i] = np.std(X_train[:,i,:,:])\n",
    "    \n",
    "for i in range(3):\n",
    "    newX_train[:,i,:,:] = X_train[:,i,:,:] - mean[i]\n",
    "    newX_train[:,i,:,:] = newX_train[:,i,:,:] / std[i]\n",
    "    newX_test[:,i,:,:] = X_test[:,i,:,:] - mean[i]\n",
    "    newX_test[:,i,:,:] = newX_test[:,i,:,:] / std[i]\n",
    "        \n",
    "    \n",
    "X_train = newX_train\n",
    "X_test = newX_test\n",
    "\n",
    "print(\"mean after normalization:\", np.mean(X_train))\n",
    "print(\"std after normalization:\", np.std(X_train))"
   ]
  },
  {
   "cell_type": "code",
   "execution_count": 21,
   "metadata": {},
   "outputs": [
    {
     "name": "stdout",
     "output_type": "stream",
     "text": [
      "0.906249997786 0.422742165263\n"
     ]
    }
   ],
   "source": [
    "num_classes = 10\n",
    "data_mean = np.mean(X_train)\n",
    "data_std_dev = np.std(X_train)\n",
    "print(data_mean, data_std_dev)"
   ]
  },
  {
   "cell_type": "markdown",
   "metadata": {},
   "source": [
    "# Build the CNN"
   ]
  },
  {
   "cell_type": "code",
   "execution_count": 28,
   "metadata": {
    "collapsed": true
   },
   "outputs": [],
   "source": [
    "def build_model():\n",
    "    model = Sequential()\n",
    "    model.add(Cropping2D(cropping=((2,2)), input_shape=(32,32,3) ))\n",
    "    print(X_train.shape)\n",
    "    model.add(Convolution2D(200, 5, 5,                                    #-- 200 outputs (200 filters), 5x5 convolution kernel\n",
    "                            border_mode='valid'))\n",
    "    model.add(BatchNormalization())\n",
    "    model.add(Activation('relu')) \n",
    "    model.add(MaxPooling2D(pool_size=(3, 3)))\n",
    "    model.add(Convolution2D(200,5,5))\n",
    "    model.add(BatchNormalization())\n",
    "    model.add(Activation('relu')) \n",
    "    model.add(MaxPooling2D(pool_size=(3, 3)))\n",
    "\n",
    "    model.add(Flatten()) \n",
    "    model.add(Dense(384))\n",
    "    model.add(BatchNormalization())              #-- 120 outputs fully connected layer\n",
    "    model.add(Activation('relu'))                                       #-- ReLU non-linearity \n",
    "    model.add(Dense(192))                                                #-- 84 outputs fully connected layer\n",
    "    model.add(BatchNormalization())\n",
    "    model.add(Activation('relu'))                                       #-- ReLU non-linearity \n",
    "    model.add(Dense(num_classes))                                       #-- 10 outputs fully connected layer (one for each class)\n",
    "    model.add(Activation('softmax'))\n",
    "    return model"
   ]
  },
  {
   "cell_type": "markdown",
   "metadata": {},
   "source": [
    "# randX, randY"
   ]
  },
  {
   "cell_type": "code",
   "execution_count": 12,
   "metadata": {
    "collapsed": true
   },
   "outputs": [],
   "source": [
    "np.random.seed(12345)\n",
    "randX = data_std_dev*np.random.randn(X_train.shape[0],X_train.shape[1],X_train.shape[2],X_train.shape[3]) + data_mean\n",
    "corrupt_prob = 1.0\n",
    "labels = np.argmax(Y_train,1)\n",
    "mask = np.random.rand(len(labels)) <= corrupt_prob\n",
    "rnd_labels = np.random.choice(num_classes, mask.sum())\n",
    "labels[mask] = rnd_labels\n",
    "# we need to explicitly cast the labels from npy.int64 to\n",
    "# builtin int type, otherwise pytorch will fail...\n",
    "randY = [int(x) for x in labels]\n",
    "randY = to_categorical(randY)"
   ]
  },
  {
   "cell_type": "markdown",
   "metadata": {},
   "source": [
    "## Train Cifar10"
   ]
  },
  {
   "cell_type": "code",
   "execution_count": 31,
   "metadata": {},
   "outputs": [
    {
     "name": "stdout",
     "output_type": "stream",
     "text": [
      "(50000, 32, 32, 3)\n"
     ]
    },
    {
     "name": "stderr",
     "output_type": "stream",
     "text": [
      "/Users/NikithaShravan/anaconda/lib/python3.6/site-packages/ipykernel_launcher.py:6: UserWarning: Update your `Conv2D` call to the Keras 2 API: `Conv2D(200, (5, 5), padding=\"valid\")`\n",
      "  \n",
      "/Users/NikithaShravan/anaconda/lib/python3.6/site-packages/ipykernel_launcher.py:10: UserWarning: Update your `Conv2D` call to the Keras 2 API: `Conv2D(200, (5, 5))`\n",
      "  # Remove the CWD from sys.path while we load stuff.\n"
     ]
    },
    {
     "name": "stdout",
     "output_type": "stream",
     "text": [
      "Epoch 1/100\n"
     ]
    },
    {
     "ename": "KeyboardInterrupt",
     "evalue": "",
     "output_type": "error",
     "traceback": [
      "\u001b[0;31m---------------------------------------------------------------------------\u001b[0m",
      "\u001b[0;31mKeyboardInterrupt\u001b[0m                         Traceback (most recent call last)",
      "\u001b[0;32m<ipython-input-31-b3c8267fd06a>\u001b[0m in \u001b[0;36m<module>\u001b[0;34m()\u001b[0m\n\u001b[1;32m      5\u001b[0m \u001b[0mmodel\u001b[0m\u001b[0;34m.\u001b[0m\u001b[0mcompile\u001b[0m\u001b[0;34m(\u001b[0m\u001b[0mloss\u001b[0m\u001b[0;34m=\u001b[0m\u001b[0;34m'categorical_crossentropy'\u001b[0m\u001b[0;34m,\u001b[0m \u001b[0moptimizer\u001b[0m\u001b[0;34m=\u001b[0m\u001b[0msgd\u001b[0m\u001b[0;34m,\u001b[0m \u001b[0mmetrics\u001b[0m\u001b[0;34m=\u001b[0m\u001b[0;34m[\u001b[0m\u001b[0;34m'accuracy'\u001b[0m\u001b[0;34m]\u001b[0m\u001b[0;34m)\u001b[0m\u001b[0;34m\u001b[0m\u001b[0m\n\u001b[1;32m      6\u001b[0m     \u001b[0;31m#start = tim\u001b[0m\u001b[0;34m\u001b[0m\u001b[0;34m\u001b[0m\u001b[0m\n\u001b[0;32m----> 7\u001b[0;31m \u001b[0mhistory\u001b[0m \u001b[0;34m=\u001b[0m \u001b[0mmodel\u001b[0m\u001b[0;34m.\u001b[0m\u001b[0mfit\u001b[0m\u001b[0;34m(\u001b[0m\u001b[0mx\u001b[0m \u001b[0;34m=\u001b[0m \u001b[0mX_train\u001b[0m\u001b[0;34m,\u001b[0m \u001b[0my\u001b[0m \u001b[0;34m=\u001b[0m \u001b[0mY_train\u001b[0m\u001b[0;34m,\u001b[0m \u001b[0mverbose\u001b[0m\u001b[0;34m=\u001b[0m\u001b[0;36m2\u001b[0m\u001b[0;34m,\u001b[0m \u001b[0mbatch_size\u001b[0m\u001b[0;34m=\u001b[0m\u001b[0mparams\u001b[0m\u001b[0;34m[\u001b[0m\u001b[0;34m'batch_size'\u001b[0m\u001b[0;34m]\u001b[0m\u001b[0;34m,\u001b[0m \u001b[0mepochs\u001b[0m\u001b[0;34m=\u001b[0m\u001b[0;36m100\u001b[0m\u001b[0;34m)\u001b[0m\u001b[0;34m\u001b[0m\u001b[0m\n\u001b[0m\u001b[1;32m      8\u001b[0m \u001b[0my_hat\u001b[0m \u001b[0;34m=\u001b[0m \u001b[0mmodel\u001b[0m\u001b[0;34m.\u001b[0m\u001b[0mpredict\u001b[0m\u001b[0;34m(\u001b[0m\u001b[0mX_train\u001b[0m\u001b[0;34m)\u001b[0m\u001b[0;34m\u001b[0m\u001b[0m\n\u001b[1;32m      9\u001b[0m \u001b[0;31m#preds += y_hat[np.arange(1000), np.argmax(Y_train[:1000],1)]\u001b[0m\u001b[0;34m\u001b[0m\u001b[0;34m\u001b[0m\u001b[0m\n",
      "\u001b[0;32m~/anaconda/lib/python3.6/site-packages/keras/models.py\u001b[0m in \u001b[0;36mfit\u001b[0;34m(self, x, y, batch_size, epochs, verbose, callbacks, validation_split, validation_data, shuffle, class_weight, sample_weight, initial_epoch, steps_per_epoch, validation_steps, **kwargs)\u001b[0m\n\u001b[1;32m    961\u001b[0m                               \u001b[0minitial_epoch\u001b[0m\u001b[0;34m=\u001b[0m\u001b[0minitial_epoch\u001b[0m\u001b[0;34m,\u001b[0m\u001b[0;34m\u001b[0m\u001b[0m\n\u001b[1;32m    962\u001b[0m                               \u001b[0msteps_per_epoch\u001b[0m\u001b[0;34m=\u001b[0m\u001b[0msteps_per_epoch\u001b[0m\u001b[0;34m,\u001b[0m\u001b[0;34m\u001b[0m\u001b[0m\n\u001b[0;32m--> 963\u001b[0;31m                               validation_steps=validation_steps)\n\u001b[0m\u001b[1;32m    964\u001b[0m \u001b[0;34m\u001b[0m\u001b[0m\n\u001b[1;32m    965\u001b[0m     def evaluate(self, x=None, y=None,\n",
      "\u001b[0;32m~/anaconda/lib/python3.6/site-packages/keras/engine/training.py\u001b[0m in \u001b[0;36mfit\u001b[0;34m(self, x, y, batch_size, epochs, verbose, callbacks, validation_split, validation_data, shuffle, class_weight, sample_weight, initial_epoch, steps_per_epoch, validation_steps, **kwargs)\u001b[0m\n\u001b[1;32m   1703\u001b[0m                               \u001b[0minitial_epoch\u001b[0m\u001b[0;34m=\u001b[0m\u001b[0minitial_epoch\u001b[0m\u001b[0;34m,\u001b[0m\u001b[0;34m\u001b[0m\u001b[0m\n\u001b[1;32m   1704\u001b[0m                               \u001b[0msteps_per_epoch\u001b[0m\u001b[0;34m=\u001b[0m\u001b[0msteps_per_epoch\u001b[0m\u001b[0;34m,\u001b[0m\u001b[0;34m\u001b[0m\u001b[0m\n\u001b[0;32m-> 1705\u001b[0;31m                               validation_steps=validation_steps)\n\u001b[0m\u001b[1;32m   1706\u001b[0m \u001b[0;34m\u001b[0m\u001b[0m\n\u001b[1;32m   1707\u001b[0m     def evaluate(self, x=None, y=None,\n",
      "\u001b[0;32m~/anaconda/lib/python3.6/site-packages/keras/engine/training.py\u001b[0m in \u001b[0;36m_fit_loop\u001b[0;34m(self, f, ins, out_labels, batch_size, epochs, verbose, callbacks, val_f, val_ins, shuffle, callback_metrics, initial_epoch, steps_per_epoch, validation_steps)\u001b[0m\n\u001b[1;32m   1233\u001b[0m                         \u001b[0mins_batch\u001b[0m\u001b[0;34m[\u001b[0m\u001b[0mi\u001b[0m\u001b[0;34m]\u001b[0m \u001b[0;34m=\u001b[0m \u001b[0mins_batch\u001b[0m\u001b[0;34m[\u001b[0m\u001b[0mi\u001b[0m\u001b[0;34m]\u001b[0m\u001b[0;34m.\u001b[0m\u001b[0mtoarray\u001b[0m\u001b[0;34m(\u001b[0m\u001b[0;34m)\u001b[0m\u001b[0;34m\u001b[0m\u001b[0m\n\u001b[1;32m   1234\u001b[0m \u001b[0;34m\u001b[0m\u001b[0m\n\u001b[0;32m-> 1235\u001b[0;31m                     \u001b[0mouts\u001b[0m \u001b[0;34m=\u001b[0m \u001b[0mf\u001b[0m\u001b[0;34m(\u001b[0m\u001b[0mins_batch\u001b[0m\u001b[0;34m)\u001b[0m\u001b[0;34m\u001b[0m\u001b[0m\n\u001b[0m\u001b[1;32m   1236\u001b[0m                     \u001b[0;32mif\u001b[0m \u001b[0;32mnot\u001b[0m \u001b[0misinstance\u001b[0m\u001b[0;34m(\u001b[0m\u001b[0mouts\u001b[0m\u001b[0;34m,\u001b[0m \u001b[0mlist\u001b[0m\u001b[0;34m)\u001b[0m\u001b[0;34m:\u001b[0m\u001b[0;34m\u001b[0m\u001b[0m\n\u001b[1;32m   1237\u001b[0m                         \u001b[0mouts\u001b[0m \u001b[0;34m=\u001b[0m \u001b[0;34m[\u001b[0m\u001b[0mouts\u001b[0m\u001b[0;34m]\u001b[0m\u001b[0;34m\u001b[0m\u001b[0m\n",
      "\u001b[0;32m~/anaconda/lib/python3.6/site-packages/keras/backend/tensorflow_backend.py\u001b[0m in \u001b[0;36m__call__\u001b[0;34m(self, inputs)\u001b[0m\n\u001b[1;32m   2476\u001b[0m         \u001b[0msession\u001b[0m \u001b[0;34m=\u001b[0m \u001b[0mget_session\u001b[0m\u001b[0;34m(\u001b[0m\u001b[0;34m)\u001b[0m\u001b[0;34m\u001b[0m\u001b[0m\n\u001b[1;32m   2477\u001b[0m         updated = session.run(fetches=fetches, feed_dict=feed_dict,\n\u001b[0;32m-> 2478\u001b[0;31m                               **self.session_kwargs)\n\u001b[0m\u001b[1;32m   2479\u001b[0m         \u001b[0;32mreturn\u001b[0m \u001b[0mupdated\u001b[0m\u001b[0;34m[\u001b[0m\u001b[0;34m:\u001b[0m\u001b[0mlen\u001b[0m\u001b[0;34m(\u001b[0m\u001b[0mself\u001b[0m\u001b[0;34m.\u001b[0m\u001b[0moutputs\u001b[0m\u001b[0;34m)\u001b[0m\u001b[0;34m]\u001b[0m\u001b[0;34m\u001b[0m\u001b[0m\n\u001b[1;32m   2480\u001b[0m \u001b[0;34m\u001b[0m\u001b[0m\n",
      "\u001b[0;32m~/anaconda/lib/python3.6/site-packages/tensorflow/python/client/session.py\u001b[0m in \u001b[0;36mrun\u001b[0;34m(self, fetches, feed_dict, options, run_metadata)\u001b[0m\n\u001b[1;32m    765\u001b[0m     \u001b[0;32mtry\u001b[0m\u001b[0;34m:\u001b[0m\u001b[0;34m\u001b[0m\u001b[0m\n\u001b[1;32m    766\u001b[0m       result = self._run(None, fetches, feed_dict, options_ptr,\n\u001b[0;32m--> 767\u001b[0;31m                          run_metadata_ptr)\n\u001b[0m\u001b[1;32m    768\u001b[0m       \u001b[0;32mif\u001b[0m \u001b[0mrun_metadata\u001b[0m\u001b[0;34m:\u001b[0m\u001b[0;34m\u001b[0m\u001b[0m\n\u001b[1;32m    769\u001b[0m         \u001b[0mproto_data\u001b[0m \u001b[0;34m=\u001b[0m \u001b[0mtf_session\u001b[0m\u001b[0;34m.\u001b[0m\u001b[0mTF_GetBuffer\u001b[0m\u001b[0;34m(\u001b[0m\u001b[0mrun_metadata_ptr\u001b[0m\u001b[0;34m)\u001b[0m\u001b[0;34m\u001b[0m\u001b[0m\n",
      "\u001b[0;32m~/anaconda/lib/python3.6/site-packages/tensorflow/python/client/session.py\u001b[0m in \u001b[0;36m_run\u001b[0;34m(self, handle, fetches, feed_dict, options, run_metadata)\u001b[0m\n\u001b[1;32m    963\u001b[0m     \u001b[0;32mif\u001b[0m \u001b[0mfinal_fetches\u001b[0m \u001b[0;32mor\u001b[0m \u001b[0mfinal_targets\u001b[0m\u001b[0;34m:\u001b[0m\u001b[0;34m\u001b[0m\u001b[0m\n\u001b[1;32m    964\u001b[0m       results = self._do_run(handle, final_targets, final_fetches,\n\u001b[0;32m--> 965\u001b[0;31m                              feed_dict_string, options, run_metadata)\n\u001b[0m\u001b[1;32m    966\u001b[0m     \u001b[0;32melse\u001b[0m\u001b[0;34m:\u001b[0m\u001b[0;34m\u001b[0m\u001b[0m\n\u001b[1;32m    967\u001b[0m       \u001b[0mresults\u001b[0m \u001b[0;34m=\u001b[0m \u001b[0;34m[\u001b[0m\u001b[0;34m]\u001b[0m\u001b[0;34m\u001b[0m\u001b[0m\n",
      "\u001b[0;32m~/anaconda/lib/python3.6/site-packages/tensorflow/python/client/session.py\u001b[0m in \u001b[0;36m_do_run\u001b[0;34m(self, handle, target_list, fetch_list, feed_dict, options, run_metadata)\u001b[0m\n\u001b[1;32m   1013\u001b[0m     \u001b[0;32mif\u001b[0m \u001b[0mhandle\u001b[0m \u001b[0;32mis\u001b[0m \u001b[0;32mNone\u001b[0m\u001b[0;34m:\u001b[0m\u001b[0;34m\u001b[0m\u001b[0m\n\u001b[1;32m   1014\u001b[0m       return self._do_call(_run_fn, self._session, feed_dict, fetch_list,\n\u001b[0;32m-> 1015\u001b[0;31m                            target_list, options, run_metadata)\n\u001b[0m\u001b[1;32m   1016\u001b[0m     \u001b[0;32melse\u001b[0m\u001b[0;34m:\u001b[0m\u001b[0;34m\u001b[0m\u001b[0m\n\u001b[1;32m   1017\u001b[0m       return self._do_call(_prun_fn, self._session, handle, feed_dict,\n",
      "\u001b[0;32m~/anaconda/lib/python3.6/site-packages/tensorflow/python/client/session.py\u001b[0m in \u001b[0;36m_do_call\u001b[0;34m(self, fn, *args)\u001b[0m\n\u001b[1;32m   1020\u001b[0m   \u001b[0;32mdef\u001b[0m \u001b[0m_do_call\u001b[0m\u001b[0;34m(\u001b[0m\u001b[0mself\u001b[0m\u001b[0;34m,\u001b[0m \u001b[0mfn\u001b[0m\u001b[0;34m,\u001b[0m \u001b[0;34m*\u001b[0m\u001b[0margs\u001b[0m\u001b[0;34m)\u001b[0m\u001b[0;34m:\u001b[0m\u001b[0;34m\u001b[0m\u001b[0m\n\u001b[1;32m   1021\u001b[0m     \u001b[0;32mtry\u001b[0m\u001b[0;34m:\u001b[0m\u001b[0;34m\u001b[0m\u001b[0m\n\u001b[0;32m-> 1022\u001b[0;31m       \u001b[0;32mreturn\u001b[0m \u001b[0mfn\u001b[0m\u001b[0;34m(\u001b[0m\u001b[0;34m*\u001b[0m\u001b[0margs\u001b[0m\u001b[0;34m)\u001b[0m\u001b[0;34m\u001b[0m\u001b[0m\n\u001b[0m\u001b[1;32m   1023\u001b[0m     \u001b[0;32mexcept\u001b[0m \u001b[0merrors\u001b[0m\u001b[0;34m.\u001b[0m\u001b[0mOpError\u001b[0m \u001b[0;32mas\u001b[0m \u001b[0me\u001b[0m\u001b[0;34m:\u001b[0m\u001b[0;34m\u001b[0m\u001b[0m\n\u001b[1;32m   1024\u001b[0m       \u001b[0mmessage\u001b[0m \u001b[0;34m=\u001b[0m \u001b[0mcompat\u001b[0m\u001b[0;34m.\u001b[0m\u001b[0mas_text\u001b[0m\u001b[0;34m(\u001b[0m\u001b[0me\u001b[0m\u001b[0;34m.\u001b[0m\u001b[0mmessage\u001b[0m\u001b[0;34m)\u001b[0m\u001b[0;34m\u001b[0m\u001b[0m\n",
      "\u001b[0;32m~/anaconda/lib/python3.6/site-packages/tensorflow/python/client/session.py\u001b[0m in \u001b[0;36m_run_fn\u001b[0;34m(session, feed_dict, fetch_list, target_list, options, run_metadata)\u001b[0m\n\u001b[1;32m   1002\u001b[0m         return tf_session.TF_Run(session, options,\n\u001b[1;32m   1003\u001b[0m                                  \u001b[0mfeed_dict\u001b[0m\u001b[0;34m,\u001b[0m \u001b[0mfetch_list\u001b[0m\u001b[0;34m,\u001b[0m \u001b[0mtarget_list\u001b[0m\u001b[0;34m,\u001b[0m\u001b[0;34m\u001b[0m\u001b[0m\n\u001b[0;32m-> 1004\u001b[0;31m                                  status, run_metadata)\n\u001b[0m\u001b[1;32m   1005\u001b[0m \u001b[0;34m\u001b[0m\u001b[0m\n\u001b[1;32m   1006\u001b[0m     \u001b[0;32mdef\u001b[0m \u001b[0m_prun_fn\u001b[0m\u001b[0;34m(\u001b[0m\u001b[0msession\u001b[0m\u001b[0;34m,\u001b[0m \u001b[0mhandle\u001b[0m\u001b[0;34m,\u001b[0m \u001b[0mfeed_dict\u001b[0m\u001b[0;34m,\u001b[0m \u001b[0mfetch_list\u001b[0m\u001b[0;34m)\u001b[0m\u001b[0;34m:\u001b[0m\u001b[0;34m\u001b[0m\u001b[0m\n",
      "\u001b[0;31mKeyboardInterrupt\u001b[0m: "
     ]
    }
   ],
   "source": [
    "sgd = SGD(lr=params['learning_rate'])\n",
    "preds = np.zeros((1000))\n",
    "\n",
    "model = build_model()\n",
    "model.compile(loss='categorical_crossentropy', optimizer=sgd, metrics=['accuracy'])\n",
    "    #start = tim\n",
    "history = model.fit(x = X_train, y = Y_train, verbose=2, batch_size=params['batch_size'], epochs=100)\n",
    "y_hat = model.predict(X_train)\n",
    "#preds += y_hat[np.arange(1000), np.argmax(Y_train[:1000],1)]\n",
    "    #print(preds)\n",
    "    \n",
    "\n",
    "#lis_cifar = preds/100.0\n",
    "# inp = model.input \n",
    "# outputs = [layer.output for layer in model.layers]          # all layer outputs\n",
    "# functors = [K.function([inp]+ [K.learning_phase()], [out]) for out in outputs]  # evaluation functions\n",
    "# test = X_train[:1000]\n",
    "# layer_outs = [func([test, 1.]) for func in functors]\n",
    "# index = np.argmax(Y_train[:1000], 1)\n",
    "# lis_cifar =  layer_outs[-1][0][np.arange(len(index)), index]\n",
    "#plt.plot(sorted(lis_cifar))\n",
    "#plt.show()"
   ]
  },
  {
   "cell_type": "markdown",
   "metadata": {},
   "source": [
    "## Train randX"
   ]
  },
  {
   "cell_type": "code",
   "execution_count": 23,
   "metadata": {},
   "outputs": [
    {
     "name": "stdout",
     "output_type": "stream",
     "text": [
      "(50000, 32, 32, 3)\n"
     ]
    },
    {
     "name": "stderr",
     "output_type": "stream",
     "text": [
      "/home/manisha.padala/env/lib/python2.7/site-packages/ipykernel_launcher.py:6: UserWarning: Update your `Conv2D` call to the Keras 2 API: `Conv2D(200, (5, 5), padding=\"valid\")`\n",
      "  \n",
      "/home/manisha.padala/env/lib/python2.7/site-packages/ipykernel_launcher.py:10: UserWarning: Update your `Conv2D` call to the Keras 2 API: `Conv2D(200, (5, 5))`\n",
      "  # Remove the CWD from sys.path while we load stuff.\n"
     ]
    },
    {
     "name": "stdout",
     "output_type": "stream",
     "text": [
      "Epoch 1/1\n",
      " - 19s - loss: 2.6347 - acc: 0.1018\n",
      "(50000, 32, 32, 3)\n",
      "Epoch 1/1\n",
      " - 19s - loss: 2.6964 - acc: 0.1000\n",
      "(50000, 32, 32, 3)\n",
      "Epoch 1/1\n",
      " - 18s - loss: 2.6785 - acc: 0.1000\n",
      "(50000, 32, 32, 3)\n",
      "Epoch 1/1\n",
      " - 18s - loss: 2.7728 - acc: 0.1003\n",
      "(50000, 32, 32, 3)\n",
      "Epoch 1/1\n",
      " - 19s - loss: 2.6997 - acc: 0.1031\n",
      "(50000, 32, 32, 3)\n",
      "Epoch 1/1\n",
      " - 18s - loss: 2.6389 - acc: 0.0986\n",
      "(50000, 32, 32, 3)\n",
      "Epoch 1/1\n",
      " - 19s - loss: 2.7132 - acc: 0.1018\n",
      "(50000, 32, 32, 3)\n",
      "Epoch 1/1\n",
      " - 19s - loss: 2.8268 - acc: 0.0991\n",
      "(50000, 32, 32, 3)\n",
      "Epoch 1/1\n",
      " - 19s - loss: 2.7901 - acc: 0.0989\n",
      "(50000, 32, 32, 3)\n",
      "Epoch 1/1\n",
      " - 20s - loss: 2.6741 - acc: 0.1026\n",
      "(50000, 32, 32, 3)\n",
      "Epoch 1/1\n",
      " - 20s - loss: 2.6672 - acc: 0.0989\n",
      "(50000, 32, 32, 3)\n",
      "Epoch 1/1\n",
      " - 20s - loss: 2.7548 - acc: 0.1006\n",
      "(50000, 32, 32, 3)\n",
      "Epoch 1/1\n",
      " - 19s - loss: 2.6466 - acc: 0.1009\n",
      "(50000, 32, 32, 3)\n",
      "Epoch 1/1\n",
      " - 20s - loss: 2.6479 - acc: 0.1000\n",
      "(50000, 32, 32, 3)\n",
      "Epoch 1/1\n",
      " - 20s - loss: 2.9239 - acc: 0.1002\n",
      "(50000, 32, 32, 3)\n",
      "Epoch 1/1\n",
      " - 20s - loss: 2.8382 - acc: 0.0987\n",
      "(50000, 32, 32, 3)\n",
      "Epoch 1/1\n",
      " - 21s - loss: 2.6745 - acc: 0.0975\n",
      "(50000, 32, 32, 3)\n",
      "Epoch 1/1\n",
      " - 20s - loss: 2.6566 - acc: 0.1013\n",
      "(50000, 32, 32, 3)\n",
      "Epoch 1/1\n",
      " - 21s - loss: 2.6500 - acc: 0.1002\n",
      "(50000, 32, 32, 3)\n",
      "Epoch 1/1\n",
      " - 20s - loss: 2.6596 - acc: 0.1017\n",
      "(50000, 32, 32, 3)\n",
      "Epoch 1/1\n",
      " - 21s - loss: 2.7204 - acc: 0.1004\n",
      "(50000, 32, 32, 3)\n",
      "Epoch 1/1\n",
      " - 22s - loss: 2.7375 - acc: 0.1009\n",
      "(50000, 32, 32, 3)\n",
      "Epoch 1/1\n",
      " - 21s - loss: 2.7280 - acc: 0.0996\n",
      "(50000, 32, 32, 3)\n",
      "Epoch 1/1\n",
      " - 22s - loss: 2.6700 - acc: 0.0985\n",
      "(50000, 32, 32, 3)\n",
      "Epoch 1/1\n",
      " - 21s - loss: 2.7340 - acc: 0.0986\n",
      "(50000, 32, 32, 3)\n",
      "Epoch 1/1\n",
      " - 21s - loss: 2.7444 - acc: 0.1008\n",
      "(50000, 32, 32, 3)\n",
      "Epoch 1/1\n",
      " - 22s - loss: 2.6357 - acc: 0.1010\n",
      "(50000, 32, 32, 3)\n",
      "Epoch 1/1\n",
      " - 22s - loss: 2.6984 - acc: 0.1014\n",
      "(50000, 32, 32, 3)\n",
      "Epoch 1/1\n",
      " - 22s - loss: 2.7194 - acc: 0.0993\n",
      "(50000, 32, 32, 3)\n",
      "Epoch 1/1\n",
      " - 22s - loss: 2.7237 - acc: 0.1004\n",
      "(50000, 32, 32, 3)\n",
      "Epoch 1/1\n",
      " - 22s - loss: 2.7246 - acc: 0.0998\n",
      "(50000, 32, 32, 3)\n",
      "Epoch 1/1\n",
      " - 23s - loss: 2.6725 - acc: 0.0980\n",
      "(50000, 32, 32, 3)\n",
      "Epoch 1/1\n",
      " - 22s - loss: 2.7013 - acc: 0.1008\n",
      "(50000, 32, 32, 3)\n",
      "Epoch 1/1\n",
      " - 23s - loss: 2.6737 - acc: 0.0994\n",
      "(50000, 32, 32, 3)\n",
      "Epoch 1/1\n",
      " - 22s - loss: 2.7038 - acc: 0.1004\n",
      "(50000, 32, 32, 3)\n",
      "Epoch 1/1\n",
      " - 22s - loss: 2.6288 - acc: 0.0993\n",
      "(50000, 32, 32, 3)\n",
      "Epoch 1/1\n",
      " - 23s - loss: 2.6361 - acc: 0.1022\n",
      "(50000, 32, 32, 3)\n",
      "Epoch 1/1\n",
      " - 23s - loss: 2.6527 - acc: 0.0991\n",
      "(50000, 32, 32, 3)\n",
      "Epoch 1/1\n",
      " - 23s - loss: 2.6282 - acc: 0.1005\n",
      "(50000, 32, 32, 3)\n",
      "Epoch 1/1\n",
      " - 23s - loss: 2.7662 - acc: 0.1013\n",
      "(50000, 32, 32, 3)\n",
      "Epoch 1/1\n",
      " - 24s - loss: 2.6671 - acc: 0.0996\n",
      "(50000, 32, 32, 3)\n",
      "Epoch 1/1\n",
      " - 24s - loss: 2.7000 - acc: 0.0978\n",
      "(50000, 32, 32, 3)\n",
      "Epoch 1/1\n",
      " - 24s - loss: 2.7024 - acc: 0.1013\n",
      "(50000, 32, 32, 3)\n",
      "Epoch 1/1\n",
      " - 23s - loss: 2.7674 - acc: 0.1018\n",
      "(50000, 32, 32, 3)\n",
      "Epoch 1/1\n",
      " - 24s - loss: 2.6605 - acc: 0.1002\n",
      "(50000, 32, 32, 3)\n",
      "Epoch 1/1\n",
      " - 24s - loss: 2.7760 - acc: 0.1017\n",
      "(50000, 32, 32, 3)\n",
      "Epoch 1/1\n",
      " - 25s - loss: 2.6732 - acc: 0.0989\n",
      "(50000, 32, 32, 3)\n",
      "Epoch 1/1\n",
      " - 25s - loss: 2.6775 - acc: 0.1003\n",
      "(50000, 32, 32, 3)\n",
      "Epoch 1/1\n",
      " - 25s - loss: 2.8536 - acc: 0.0997\n",
      "(50000, 32, 32, 3)\n",
      "Epoch 1/1\n",
      " - 25s - loss: 2.7091 - acc: 0.0990\n",
      "(50000, 32, 32, 3)\n",
      "Epoch 1/1\n",
      " - 25s - loss: 2.7163 - acc: 0.1005\n",
      "(50000, 32, 32, 3)\n",
      "Epoch 1/1\n",
      " - 25s - loss: 2.6544 - acc: 0.1000\n",
      "(50000, 32, 32, 3)\n",
      "Epoch 1/1\n",
      " - 25s - loss: 2.6990 - acc: 0.0996\n",
      "(50000, 32, 32, 3)\n",
      "Epoch 1/1\n",
      " - 25s - loss: 2.6508 - acc: 0.1005\n",
      "(50000, 32, 32, 3)\n",
      "Epoch 1/1\n",
      " - 25s - loss: 2.6967 - acc: 0.1014\n",
      "(50000, 32, 32, 3)\n",
      "Epoch 1/1\n",
      " - 25s - loss: 2.7842 - acc: 0.0986\n",
      "(50000, 32, 32, 3)\n",
      "Epoch 1/1\n",
      " - 26s - loss: 2.6877 - acc: 0.1001\n",
      "(50000, 32, 32, 3)\n",
      "Epoch 1/1\n",
      " - 25s - loss: 2.6878 - acc: 0.0988\n",
      "(50000, 32, 32, 3)\n",
      "Epoch 1/1\n",
      " - 26s - loss: 2.6352 - acc: 0.0994\n",
      "(50000, 32, 32, 3)\n",
      "Epoch 1/1\n",
      " - 25s - loss: 2.7094 - acc: 0.1000\n",
      "(50000, 32, 32, 3)\n",
      "Epoch 1/1\n",
      " - 26s - loss: 2.6511 - acc: 0.0995\n",
      "(50000, 32, 32, 3)\n",
      "Epoch 1/1\n",
      " - 26s - loss: 2.6252 - acc: 0.0981\n",
      "(50000, 32, 32, 3)\n",
      "Epoch 1/1\n",
      " - 26s - loss: 2.6767 - acc: 0.0981\n",
      "(50000, 32, 32, 3)\n",
      "Epoch 1/1\n",
      " - 26s - loss: 2.6274 - acc: 0.0997\n",
      "(50000, 32, 32, 3)\n",
      "Epoch 1/1\n",
      " - 27s - loss: 2.6372 - acc: 0.1013\n",
      "(50000, 32, 32, 3)\n",
      "Epoch 1/1\n",
      " - 26s - loss: 2.7035 - acc: 0.1005\n",
      "(50000, 32, 32, 3)\n",
      "Epoch 1/1\n",
      " - 28s - loss: 2.7384 - acc: 0.0995\n",
      "(50000, 32, 32, 3)\n",
      "Epoch 1/1\n",
      " - 27s - loss: 2.6907 - acc: 0.1016\n",
      "(50000, 32, 32, 3)\n",
      "Epoch 1/1\n",
      " - 28s - loss: 2.6519 - acc: 0.1000\n",
      "(50000, 32, 32, 3)\n",
      "Epoch 1/1\n",
      " - 27s - loss: 2.6538 - acc: 0.0998\n",
      "(50000, 32, 32, 3)\n",
      "Epoch 1/1\n",
      " - 27s - loss: 2.6239 - acc: 0.1023\n",
      "(50000, 32, 32, 3)\n",
      "Epoch 1/1\n",
      " - 29s - loss: 2.7215 - acc: 0.0991\n",
      "(50000, 32, 32, 3)\n",
      "Epoch 1/1\n",
      " - 28s - loss: 2.6764 - acc: 0.1007\n",
      "(50000, 32, 32, 3)\n",
      "Epoch 1/1\n",
      " - 28s - loss: 2.7033 - acc: 0.1013\n",
      "(50000, 32, 32, 3)\n",
      "Epoch 1/1\n",
      " - 27s - loss: 2.6984 - acc: 0.1024\n",
      "(50000, 32, 32, 3)\n",
      "Epoch 1/1\n",
      " - 28s - loss: 2.6904 - acc: 0.0974\n",
      "(50000, 32, 32, 3)\n",
      "Epoch 1/1\n",
      " - 28s - loss: 2.9018 - acc: 0.0993\n",
      "(50000, 32, 32, 3)\n",
      "Epoch 1/1\n",
      " - 29s - loss: 2.6282 - acc: 0.1005\n",
      "(50000, 32, 32, 3)\n",
      "Epoch 1/1\n",
      " - 29s - loss: 2.6330 - acc: 0.0998\n",
      "(50000, 32, 32, 3)\n",
      "Epoch 1/1\n",
      " - 29s - loss: 2.6718 - acc: 0.0997\n",
      "(50000, 32, 32, 3)\n",
      "Epoch 1/1\n",
      " - 29s - loss: 2.8050 - acc: 0.0983\n",
      "(50000, 32, 32, 3)\n",
      "Epoch 1/1\n",
      " - 31s - loss: 2.6015 - acc: 0.0984\n",
      "(50000, 32, 32, 3)\n",
      "Epoch 1/1\n",
      " - 29s - loss: 2.6409 - acc: 0.0992\n",
      "(50000, 32, 32, 3)\n",
      "Epoch 1/1\n",
      " - 28s - loss: 2.7062 - acc: 0.1000\n",
      "(50000, 32, 32, 3)\n",
      "Epoch 1/1\n",
      " - 30s - loss: 2.6656 - acc: 0.0986\n",
      "(50000, 32, 32, 3)\n",
      "Epoch 1/1\n",
      " - 30s - loss: 2.7134 - acc: 0.1005\n",
      "(50000, 32, 32, 3)\n",
      "Epoch 1/1\n",
      " - 30s - loss: 2.6429 - acc: 0.1012\n",
      "(50000, 32, 32, 3)\n",
      "Epoch 1/1\n",
      " - 29s - loss: 2.7568 - acc: 0.1011\n",
      "(50000, 32, 32, 3)\n",
      "Epoch 1/1\n",
      " - 31s - loss: 2.7322 - acc: 0.0997\n",
      "(50000, 32, 32, 3)\n",
      "Epoch 1/1\n",
      " - 30s - loss: 2.7247 - acc: 0.1004\n",
      "(50000, 32, 32, 3)\n",
      "Epoch 1/1\n",
      " - 30s - loss: 2.6763 - acc: 0.0995\n",
      "(50000, 32, 32, 3)\n",
      "Epoch 1/1\n",
      " - 30s - loss: 2.6723 - acc: 0.1024\n",
      "(50000, 32, 32, 3)\n",
      "Epoch 1/1\n",
      " - 30s - loss: 2.7192 - acc: 0.0967\n",
      "(50000, 32, 32, 3)\n",
      "Epoch 1/1\n",
      " - 30s - loss: 2.7783 - acc: 0.1006\n",
      "(50000, 32, 32, 3)\n",
      "Epoch 1/1\n",
      " - 32s - loss: 2.6707 - acc: 0.1000\n",
      "(50000, 32, 32, 3)\n",
      "Epoch 1/1\n",
      " - 33s - loss: 2.7083 - acc: 0.0996\n",
      "(50000, 32, 32, 3)\n",
      "Epoch 1/1\n",
      " - 32s - loss: 2.8840 - acc: 0.0999\n",
      "(50000, 32, 32, 3)\n",
      "Epoch 1/1\n",
      " - 31s - loss: 2.7013 - acc: 0.0998\n",
      "(50000, 32, 32, 3)\n",
      "Epoch 1/1\n",
      " - 31s - loss: 2.7189 - acc: 0.0999\n",
      "(50000, 32, 32, 3)\n",
      "Epoch 1/1\n",
      " - 31s - loss: 2.6038 - acc: 0.0985\n"
     ]
    },
    {
     "data": {
      "image/png": "[encoded data removed]",
      "text/plain": [
       "<Figure size 432x288 with 1 Axes>"
      ]
     },
     "metadata": {},
     "output_type": "display_data"
    }
   ],
   "source": [
    "sgd = SGD(lr=params['learning_rate'], decay=params['lr_decay'])\n",
    "preds = np.zeros((1000))\n",
    "for i in range(100):\n",
    "    model = build_model()\n",
    "    model.compile(loss='categorical_crossentropy', optimizer=sgd, metrics=['accuracy'])\n",
    "    history = model.fit(x = randX, y = Y_train, verbose=2, batch_size=params['batch_size'], epochs=1)\n",
    "    y_hat = np.argmax(model.predict(randX[:1000]),1)\n",
    "    #print(y_hat)\n",
    "    preds += y_hat == np.argmax(Y_train[:1000],1)\n",
    "    #print(preds)\n",
    "    \n",
    "\n",
    "lis_randx = preds/100.0\n",
    "# inp = model.input \n",
    "# outputs = [layer.output for layer in model.layers]          # all layer outputs\n",
    "# functors = [K.function([inp]+ [K.learning_phase()], [out]) for out in outputs]  # evaluation functions\n",
    "# test = X_train[:1000]\n",
    "# layer_outs = [func([test, 1.]) for func in functors]\n",
    "# index = np.argmax(Y_train[:1000], 1)\n",
    "# lis_cifar =  layer_outs[-1][0][np.arange(len(index)), index]\n",
    "plt.plot(sorted(lis_randx))\n",
    "plt.show()\n"
   ]
  },
  {
   "cell_type": "markdown",
   "metadata": {},
   "source": [
    "## Train randY"
   ]
  },
  {
   "cell_type": "code",
   "execution_count": 14,
   "metadata": {},
   "outputs": [
    {
     "name": "stdout",
     "output_type": "stream",
     "text": [
      "(50000, 32, 32, 3)\n"
     ]
    },
    {
     "name": "stderr",
     "output_type": "stream",
     "text": [
      "/home/manisha.padala/env/lib/python2.7/site-packages/ipykernel_launcher.py:6: UserWarning: Update your `Conv2D` call to the Keras 2 API: `Conv2D(200, (5, 5), padding=\"valid\")`\n",
      "  \n",
      "/home/manisha.padala/env/lib/python2.7/site-packages/ipykernel_launcher.py:10: UserWarning: Update your `Conv2D` call to the Keras 2 API: `Conv2D(200, (5, 5))`\n",
      "  # Remove the CWD from sys.path while we load stuff.\n"
     ]
    },
    {
     "name": "stdout",
     "output_type": "stream",
     "text": [
      "Epoch 1/1\n",
      " - 8s - loss: 2.6250 - acc: 0.0972\n"
     ]
    }
   ],
   "source": [
    "model = build_model()\n",
    "model.compile(loss='categorical_crossentropy',optimizer=sgd, metrics=['accuracy'])\n",
    "history = model.fit(x = X_train, y=randY, verbose=2, batch_size=params['batch_size'], epochs=1)\n",
    "inp = model.input                                           # input placeholder\n",
    "outputs = [layer.output for layer in model.layers]          # all layer outputs\n",
    "functors = [K.function([inp]+ [K.learning_phase()], [out]) for out in outputs]  # evaluation functions\n",
    "\n",
    "# Testing\n",
    "test = X_train[:1000]\n",
    "layer_outs = [func([test, 1.]) for func in functors]\n",
    "index = np.argmax(randY[:1000], 1)\n",
    "lis_randy =  layer_outs[-1][0][np.arange(len(index)), index]"
   ]
  },
  {
   "cell_type": "code",
   "execution_count": 18,
   "metadata": {},
   "outputs": [
    {
     "data": {
      "image/png": "[encoded data removed]",
      "text/plain": [
       "<Figure size 432x288 with 1 Axes>"
      ]
     },
     "metadata": {},
     "output_type": "display_data"
    }
   ],
   "source": [
    "plt.plot(sorted(lis_cifar))\n",
    "plt.plot(sorted(lis_randx))\n",
    "plt.plot(sorted(lis_randy))\n",
    "plt.show()"
   ]
  },
  {
   "cell_type": "code",
   "execution_count": null,
   "metadata": {
    "collapsed": true
   },
   "outputs": [],
   "source": []
  }
 ],
 "metadata": {
  "kernelspec": {
   "display_name": "Python 3",
   "language": "python",
   "name": "python3"
  },
  "language_info": {
   "codemirror_mode": {
    "name": "ipython",
    "version": 3
   },
   "file_extension": ".py",
   "mimetype": "text/x-python",
   "name": "python",
   "nbconvert_exporter": "python",
   "pygments_lexer": "ipython3",
   "version": "3.6.0"
  }
 },
 "nbformat": 4,
 "nbformat_minor": 2
}
